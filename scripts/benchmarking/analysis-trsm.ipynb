{
 "cells": [
  {
   "cell_type": "code",
   "execution_count": null,
   "metadata": {},
   "outputs": [],
   "source": [
    "import os\n",
    "import re\n",
    "\n",
    "import pandas as pd\n",
    "import numpy as np\n",
    "\n",
    "import matplotlib\n",
    "from matplotlib import pyplot as plt\n",
    "%matplotlib notebook\n",
    "\n",
    "from parsers import generic, dlaf, slate, dplasma, scalapack\n",
    "\n",
    "colors_default = plt.cm.get_cmap('tab10').colors\n",
    "\n",
    "LIB_COLOR = {\n",
    "    'dlaf': colors_default[2], \n",
    "    'slate': colors_default[0],\n",
    "    'dplasma': colors_default[1],\n",
    "    'scalapack': colors_default[4],\n",
    "}"
   ]
  },
  {
   "cell_type": "markdown",
   "metadata": {},
   "source": [
    "## Collect data from filesystem"
   ]
  },
  {
   "cell_type": "code",
   "execution_count": null,
   "metadata": {},
   "outputs": [],
   "source": [
    "slurm_db = generic.parse_slurm_db('slurm.db')"
   ]
  },
  {
   "cell_type": "code",
   "execution_count": null,
   "metadata": {
    "scrolled": false
   },
   "outputs": [],
   "source": [
    "campaigns = {\n",
    "    'pre': 'raw_data/pre',\n",
    "    'post': 'raw_data/post/trsm',\n",
    "}\n",
    "\n",
    "jobs_reports = []\n",
    "\n",
    "df = pd.DataFrame([], columns=[\n",
    "    'library',\n",
    "    'benchmark_lib',\n",
    "    'run_index',\n",
    "    'm',\n",
    "    'n',\n",
    "    'mb',\n",
    "    'grid_rows',\n",
    "    'grid_cols',\n",
    "    'time',\n",
    "    'performance',\n",
    "    'id',\n",
    "    'campaign',\n",
    "])\n",
    "\n",
    "for campaign_name, workdir in campaigns.items():\n",
    "    for entry in os.listdir(workdir):\n",
    "        m = re.match('(\\d+)J\\d+_\\d+', entry)\n",
    "\n",
    "        if not m:\n",
    "            continue\n",
    "\n",
    "        jobid, = m.groups()\n",
    "        jobdata = slurm_db[jobid]\n",
    "        jobname = jobdata['jobname']\n",
    "\n",
    "        first_seen = jobid not in jobs_reports\n",
    "        jobs_reports.append(jobid)\n",
    "\n",
    "        if jobdata['state'] not in ['COMPLETED', 'TIMEOUT']:\n",
    "            if first_seen:\n",
    "                display(f'WARNING {jobid} {jobname} {jobdata[\"state\"]}')\n",
    "            continue\n",
    "\n",
    "        # select parser\n",
    "        if re.search(r'.*slate.*', jobname):\n",
    "            benchmark_lib = 'slate'\n",
    "            parser = slate.parse_trsm\n",
    "        elif re.search(r'.*dplasma.*', jobname):\n",
    "            benchmark_lib = 'dplasma'\n",
    "            parser = dplasma.parse_trsm\n",
    "        elif re.search(r'.*scalapack.*', jobname):\n",
    "            benchmark_lib = 'scalapack'\n",
    "            parser = scalapack.parse_trsm\n",
    "        else:\n",
    "            benchmark_lib = 'dlaf'\n",
    "            parser = dlaf.parse_trsm\n",
    "\n",
    "        current_run = os.path.join(workdir, entry)\n",
    "        for task_entry in os.listdir(current_run):\n",
    "            if not task_entry.endswith('.out'):\n",
    "                continue\n",
    "\n",
    "            out_filepath = os.path.join(current_run, task_entry)\n",
    "            try:\n",
    "                current_data = parser(out_filepath)\n",
    "            except Exception as e:\n",
    "                display(f'ERROR {out_filepath} {e}')\n",
    "                continue\n",
    "\n",
    "            if len(current_data[1]) == 0:\n",
    "                display(f'No data in {out_filepath}')\n",
    "                continue\n",
    "\n",
    "            current_df = pd.DataFrame(current_data[1], columns=[\n",
    "                'run_index',\n",
    "                'm',\n",
    "                'n',\n",
    "                'mb',\n",
    "                'grid_rows',\n",
    "                'grid_cols',\n",
    "                'time',\n",
    "                'performance',\n",
    "            ])\n",
    "\n",
    "            # do not plot results with more than 64 nodes\n",
    "            if (jobdata[\"nodes\"] > 64):\n",
    "                continue\n",
    "\n",
    "            current_df['campaign'] = campaign_name\n",
    "            current_df['library'] = benchmark_lib\n",
    "            current_df['nodes'] = jobdata[\"nodes\"]\n",
    "            current_df['ranks_per_node'] = current_df['grid_rows'] * current_df['grid_cols'] / current_df[\"nodes\"]\n",
    "            current_df['benchmark_lib'] = benchmark_lib + \"|\" + str(int(current_df['ranks_per_node'].iloc[0]))\n",
    "            current_df['performance_per_node'] = current_df['performance'] / current_df['nodes']\n",
    "\n",
    "            current_df['id'] = entry\n",
    "\n",
    "            df = df.append(current_df)\n",
    "\n",
    "display(\"LOADED\")"
   ]
  },
  {
   "cell_type": "code",
   "execution_count": null,
   "metadata": {},
   "outputs": [],
   "source": [
    "df"
   ]
  },
  {
   "cell_type": "code",
   "execution_count": null,
   "metadata": {},
   "outputs": [],
   "source": [
    "df_runs = df\\\n",
    ".loc[df['run_index'] != 0]\\\n",
    ".groupby(['library', 'm', 'n', 'mb', 'nodes', 'ranks_per_node', 'benchmark_lib', 'campaign'])\\\n",
    ".agg(\n",
    "    p_mean=(\"performance\", 'mean'),\n",
    "    p_min=(\"performance\", 'min'),\n",
    "    p_max=(\"performance\", 'max'),\n",
    "    ppn_mean=(\"performance_per_node\", 'mean'),\n",
    "    ppn_min=(\"performance_per_node\", 'min'),\n",
    "    ppn_max=(\"performance_per_node\", 'max'),\n",
    "    time_mean=(\"time\", 'mean'),\n",
    "    time_min=(\"time\", 'min'),\n",
    "    time_max=(\"time\", 'max'),\n",
    "    measures=('performance', 'count'),\n",
    "    ids=('id', 'sum')\n",
    ")\\\n",
    ".reset_index()\n",
    "\n",
    "display(df_runs)"
   ]
  },
  {
   "cell_type": "code",
   "execution_count": null,
   "metadata": {
    "scrolled": false
   },
   "outputs": [],
   "source": [
    "df_groups = df_runs[df_runs['mb'] == 512].groupby(['m', 'n'])\n",
    "\n",
    "domain_m = df['m'].unique().tolist()\n",
    "domain_n = df['n'].unique().tolist()\n",
    "\n",
    "domain_m.sort()\n",
    "domain_n.sort()\n",
    "\n",
    "fig, axs_perf = plt.subplots(len(domain_m), 2,\n",
    "                             squeeze=False, sharey='row', figsize=(9,12))\n",
    "fig, axs_time = plt.subplots(len(domain_m), 2,\n",
    "                             squeeze=False, figsize=(9,12))\n",
    "\n",
    "for (m, n), grp_data in df_groups:\n",
    "    ax_i, ax_j = domain_m.index(m), 1 if m == n else 0\n",
    "    ax_perf = axs_perf[ax_i, ax_j]\n",
    "    ax_time = axs_time[ax_i, ax_j]\n",
    "    \n",
    "    for (lib, campaign), lib_data in grp_data.groupby(['benchmark_lib', 'campaign']):\n",
    "        lib_name, lib_variant = lib.split(\"|\")\n",
    "        lib_data.plot(ax=ax_perf, x='nodes', y='ppn_mean',\n",
    "                      marker='.', linestyle = '-' if lib_variant == '1' else '--',\n",
    "                      label=f'{lib}@{campaign}', color=LIB_COLOR[lib_name])\n",
    "        lib_data.plot(ax=ax_time, x='nodes', y='time_mean',\n",
    "                      marker='.', linestyle = '-' if lib_variant == '1' else '--',\n",
    "                      label=f'{lib}@{campaign}', color=LIB_COLOR[lib_name])\n",
    "\n",
    "    ax_perf.set_ylabel(f'GFlops/node (with m={m})')\n",
    "    ax_perf.set_ylim(0, 1200)\n",
    "    ax_time.set_ylabel(f'Time (s) (with m={m})')\n",
    "    \n",
    "    for ax in [ax_perf, ax_time]:\n",
    "        ax.legend(loc=\"upper right\")\n",
    "        ax.set_xscale('log', basex=2)\n",
    "        ax.set_xticks([2**x for x in range(9)])\n",
    "        ax.set_xlabel(f'nodes (with n={n})')\n",
    "        \n",
    "        ax.grid(color='gray', alpha=0.3)"
   ]
  },
  {
   "cell_type": "code",
   "execution_count": null,
   "metadata": {},
   "outputs": [],
   "source": [
    "df_runs_multi = df_runs.set_index(['library', 'ranks_per_node', 'mb', 'campaign']).sort_index()\n",
    "\n",
    "display(df_runs_multi)"
   ]
  },
  {
   "cell_type": "code",
   "execution_count": null,
   "metadata": {
    "scrolled": false
   },
   "outputs": [],
   "source": [
    "def plot_interesting(interesting_configs, plot_time=False):\n",
    "    if type(interesting_configs) == list:\n",
    "        interesting_configs = {k:{} for k in interesting_configs}\n",
    "    \n",
    "    domain_m = df['m'].unique().tolist()\n",
    "    domain_n = df['n'].unique().tolist()\n",
    "\n",
    "    domain_m.sort()\n",
    "    domain_n.sort()\n",
    "\n",
    "    fig, axs_perf = plt.subplots(len(domain_m), 2,\n",
    "                                 squeeze=False, sharey='row', figsize=(9, 12))\n",
    "\n",
    "    if plot_time:\n",
    "        fig, axs_time = plt.subplots(len(domain_m), 2,\n",
    "                                     squeeze=False, figsize=(9, 12))\n",
    "\n",
    "    \n",
    "    for config in interesting_configs.keys():\n",
    "        plot_properties = {\n",
    "            # default properties\n",
    "            **dict(color=LIB_COLOR[config[0]], marker='.', linestyle = '-'),\n",
    "            # passed-by-argument\n",
    "            **interesting_configs[config]\n",
    "        }\n",
    "        for (m, n), grp_data in df_runs_multi.loc[config, :].groupby(['m', 'n']):\n",
    "            ax_i, ax_j = domain_m.index(m), 1 if m == n else 0\n",
    "            ax_perf = axs_perf[ax_i, ax_j]\n",
    "            \n",
    "            if plot_time:\n",
    "                ax_time = axs_time[ax_i, ax_j]\n",
    "\n",
    "            for (lib, campaign_name), lib_data in grp_data.groupby(['benchmark_lib', 'campaign']):\n",
    "                lib_name, lib_variant = lib.split(\"|\")\n",
    "                lib_data.plot(ax=ax_perf, x='nodes', y='ppn_mean',\n",
    "                              label=config if len(config) > 3 else f'{config} {campaign_name}',\n",
    "                              **plot_properties)\n",
    "                ax_perf.fill_between(lib_data['nodes'], lib_data['ppn_min'], lib_data['ppn_max'],\n",
    "                                     alpha=0.2, color=plot_properties['color'])\n",
    "                \n",
    "                if plot_time:\n",
    "                    lib_data.plot(ax=ax_time, x='nodes', y='time_mean',\n",
    "                                label=config if len(config) > 3 else f'{config} {campaign_name}',\n",
    "                                 **plot_properties)\n",
    "                    \n",
    "            axs = [ax_perf]\n",
    "            \n",
    "            ax_perf.set_ylabel(f'GFlops/node\\n(with m={m})')\n",
    "            ax_perf.set_ylim(0, 1200)\n",
    "\n",
    "            if plot_time:\n",
    "                axs.append(ax_time)\n",
    "                if ax_j == 0:\n",
    "                    ax_time.set_ylabel(f'Time (s)\\n(with m={m})')\n",
    "                \n",
    "            for ax in axs:\n",
    "                ax.legend(loc=\"upper right\")\n",
    "                ax.set_xscale('log', basex=2)\n",
    "                ax.set_xticks([2**x for x in range(7)])\n",
    "                ax.set_xlabel(f'nodes (with n={n})')\n",
    "                ax.grid(color='gray', alpha=0.3)"
   ]
  },
  {
   "cell_type": "code",
   "execution_count": null,
   "metadata": {},
   "outputs": [],
   "source": [
    "def plot_interesting_pres(m, n, interesting_configs, plot_time=False):\n",
    "    if type(interesting_configs) == list:\n",
    "        interesting_configs = {k:{} for k in interesting_configs}\n",
    "    \n",
    "    fig, axs_perf = plt.subplots(1, 1,\n",
    "                                 squeeze=False, sharey='row', figsize=(4.5, 3.8))\n",
    "\n",
    "    if plot_time:\n",
    "        fig, axs_time = plt.subplots(1, 1,\n",
    "                                     squeeze=False, figsize=(4.5, 3.8))\n",
    "\n",
    "    \n",
    "    for config in interesting_configs.keys():\n",
    "        plot_properties = {\n",
    "            # default properties\n",
    "            **dict(color=LIB_COLOR[config[0]], marker='.', linestyle = '-'),\n",
    "            # passed-by-argument\n",
    "            **interesting_configs[config]\n",
    "        }\n",
    "        for (current_m, current_n), grp_data in df_runs_multi.loc[config, :].groupby(['m', 'n']):\n",
    "            if current_m != m or current_n != n:\n",
    "                continue\n",
    "            \n",
    "            ax_i, ax_j = 0, 0\n",
    "            ax_perf = axs_perf[ax_i, ax_j]\n",
    "            \n",
    "            if plot_time:\n",
    "                ax_time = axs_time[ax_i, ax_j]\n",
    "\n",
    "            for (lib, campaign_name), lib_data in grp_data.groupby(['benchmark_lib', 'campaign']):\n",
    "                lib_name, lib_variant = lib.split(\"|\")\n",
    "                lib_data.plot(ax=ax_perf, x='nodes', y='ppn_mean', **plot_properties)\n",
    "                ax_perf.fill_between(lib_data['nodes'], lib_data['ppn_min'], lib_data['ppn_max'],\n",
    "                                     alpha=0.2, color=plot_properties['color'])\n",
    "                \n",
    "                if plot_time:\n",
    "                    lib_data.plot(ax=ax_time, x='nodes', y='time_mean', **plot_properties)\n",
    "                    \n",
    "            axs = [ax_perf]\n",
    "            \n",
    "            ax_perf.set_ylabel(f'GFlops/node')\n",
    "            ax_perf.set_ylim(0, 1200)\n",
    "\n",
    "            if plot_time:\n",
    "                axs.append(ax_time)\n",
    "                if ax_j == 0:\n",
    "                    ax_time.set_ylabel(f'Time (s)')\n",
    "                \n",
    "            for ax in axs:\n",
    "                ax.legend(loc=\"upper right\")\n",
    "                ax.set_xscale('log', basex=2)\n",
    "                ax.set_xticks([2**x for x in range(7)])\n",
    "                ax.set_xlabel(f'nodes')\n",
    "                ax.grid(color='gray', alpha=0.3)\n",
    "                ax.set_title(f'Matrix Size {m}x{n}')"
   ]
  },
  {
   "cell_type": "code",
   "execution_count": null,
   "metadata": {},
   "outputs": [],
   "source": [
    "plot_interesting_pres(40960, 20480, {\n",
    "    ('dlaf', 2, 512, 'post'): dict(label='DLAF'),\n",
    "    ('slate', 2, 512, 'post'): dict(label='SLATE'),\n",
    "    ('dplasma', 1, 384): dict(label='DPlasma'),\n",
    "    ('scalapack', 36, 192): dict(label='ScaLAPACK (libsci)'),\n",
    "}, True)"
   ]
  },
  {
   "cell_type": "code",
   "execution_count": null,
   "metadata": {},
   "outputs": [],
   "source": [
    "plot_interesting_pres(40960, 40960, {\n",
    "    ('dlaf', 2, 512, 'post'): dict(label='DLAF'),\n",
    "    ('slate', 2, 512, 'post'): dict(label='SLATE'),\n",
    "    ('dplasma', 1, 384): dict(label='DPlasma'),\n",
    "    ('scalapack', 36, 192): dict(label='ScaLAPACK (libsci)'),\n",
    "}, True)"
   ]
  },
  {
   "cell_type": "code",
   "execution_count": null,
   "metadata": {},
   "outputs": [],
   "source": [
    "#df_runs_multi[(df_runs_multi.benchmark_lib == 'slate|2')& (df_runs_multi.nodes == 1)]"
   ]
  },
  {
   "cell_type": "code",
   "execution_count": null,
   "metadata": {
    "scrolled": false
   },
   "outputs": [],
   "source": [
    "plot_interesting({\n",
    "    ('dlaf', 1, 512, 'post'): {},\n",
    "    ('dlaf', 2, 512, 'post'): dict(linestyle='--'),\n",
    "}, True)"
   ]
  },
  {
   "cell_type": "code",
   "execution_count": null,
   "metadata": {
    "scrolled": false
   },
   "outputs": [],
   "source": [
    "plot_interesting({\n",
    "    ('slate', 1, 512, 'post'): {},\n",
    "    ('slate', 2, 512, 'post'): dict(linestyle='--'),\n",
    "}, True)"
   ]
  },
  {
   "cell_type": "code",
   "execution_count": null,
   "metadata": {
    "scrolled": false
   },
   "outputs": [],
   "source": [
    "for (campaign, mb) in [(campaign, mb) for campaign in campaigns.keys() for mb in [256, 512]]:\n",
    "    plot_interesting([\n",
    "        ('dlaf', 2, mb, campaign),\n",
    "        ('slate', 2, mb, campaign),\n",
    "        ('dplasma', 1, mb, campaign),\n",
    "        ('scalapack', 36, 192, 'post'),\n",
    "    ], True)"
   ]
  },
  {
   "cell_type": "markdown",
   "metadata": {},
   "source": [
    "### No Regression"
   ]
  },
  {
   "cell_type": "code",
   "execution_count": null,
   "metadata": {
    "scrolled": false
   },
   "outputs": [],
   "source": [
    "for mb in [256, 512]:\n",
    "    plot_interesting({\n",
    "        ('dlaf', 2, mb, 'pre'): dict(color='black', linestyle='--'),\n",
    "        ('dlaf', 2, mb, 'post'): {},\n",
    "    }, True)"
   ]
  },
  {
   "cell_type": "code",
   "execution_count": null,
   "metadata": {
    "scrolled": false
   },
   "outputs": [],
   "source": [
    "plot_interesting({\n",
    "    ('dlaf', 1, 256, 'post'): dict(color='orange', linestyle='--', alpha=0.3),\n",
    "    ('dlaf', 2, 256, 'post'): dict(color='red'),\n",
    "    ('dlaf', 1, 512, 'post'): dict(color='cyan', linestyle='--', alpha=0.3),\n",
    "    ('dlaf', 2, 512, 'post'): dict(color='green'),\n",
    "}, True)"
   ]
  },
  {
   "cell_type": "code",
   "execution_count": null,
   "metadata": {
    "scrolled": false
   },
   "outputs": [],
   "source": [
    "plot_interesting({\n",
    "    ('dplasma', 1, 192, 'post'): dict(color='red'),\n",
    "    ('dplasma', 1, 256, 'post'): dict(color='orange'),\n",
    "    ('dplasma', 1, 288, 'post'): dict(color='yellow'),\n",
    "    ('dplasma', 1, 384, 'post'): dict(color='green'),\n",
    "    ('dplasma', 1, 512, 'post'): dict(color='cyan'),\n",
    "})"
   ]
  },
  {
   "cell_type": "code",
   "execution_count": null,
   "metadata": {
    "scrolled": false
   },
   "outputs": [],
   "source": [
    "for rank_per_node in [1,2]:\n",
    "    plot_interesting({\n",
    "        ('slate', rank_per_node, 192, 'post'): dict(color='red'),\n",
    "        ('slate', rank_per_node, 256, 'post'): dict(color='orange'),\n",
    "        ('slate', rank_per_node, 288, 'post'): dict(color='yellow'),\n",
    "        ('slate', rank_per_node, 384, 'post'): dict(color='green'),\n",
    "        ('slate', rank_per_node, 512, 'post'): dict(color='cyan'),\n",
    "    }, True)"
   ]
  },
  {
   "cell_type": "code",
   "execution_count": null,
   "metadata": {
    "scrolled": false
   },
   "outputs": [],
   "source": [
    "plot_interesting({\n",
    "    ('scalapack', 36, 64, 'post'): dict(color='red'),\n",
    "    ('scalapack', 36, 128, 'post'): dict(color='orange'),\n",
    "    ('scalapack', 36, 192, 'post'): dict(color='yellow'),\n",
    "    ('scalapack', 36, 256, 'post'): dict(color='green'),\n",
    "}, True)"
   ]
  },
  {
   "cell_type": "code",
   "execution_count": null,
   "metadata": {
    "scrolled": false
   },
   "outputs": [],
   "source": [
    "for ranks_per_node in [1,2]:\n",
    "    plot_interesting({\n",
    "        ('dlaf', ranks_per_node, 192, 'post'): dict(color='red'),\n",
    "        ('dlaf', ranks_per_node, 256, 'post'): dict(color='orange'),\n",
    "        ('dlaf', ranks_per_node, 288, 'post'): dict(color='yellow'),\n",
    "        ('dlaf', ranks_per_node, 384, 'post'): dict(color='green'),\n",
    "        ('dlaf', ranks_per_node, 512, 'post'): dict(color='cyan'),\n",
    "    }, True)"
   ]
  },
  {
   "cell_type": "code",
   "execution_count": null,
   "metadata": {
    "scrolled": false
   },
   "outputs": [],
   "source": [
    "for campaign in campaigns.keys():\n",
    "    plot_interesting({\n",
    "        ('dplasma', 1, 256, campaign): dict(linestyle='--'),\n",
    "        ('dplasma', 1, 512, campaign): {},\n",
    "        ('dlaf', 2, 256, campaign): dict(linestyle='--'),\n",
    "        ('dlaf', 2, 512, campaign): {},\n",
    "    })"
   ]
  }
 ],
 "metadata": {
  "kernelspec": {
   "display_name": "Python 3",
   "language": "python",
   "name": "python3"
  },
  "language_info": {
   "codemirror_mode": {
    "name": "ipython",
    "version": 3
   },
   "file_extension": ".py",
   "mimetype": "text/x-python",
   "name": "python",
   "nbconvert_exporter": "python",
   "pygments_lexer": "ipython3",
   "version": "3.7.9"
  }
 },
 "nbformat": 4,
 "nbformat_minor": 4
}
