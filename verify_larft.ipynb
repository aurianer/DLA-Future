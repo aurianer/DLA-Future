{
 "cells": [
  {
   "cell_type": "code",
   "execution_count": null,
   "metadata": {},
   "outputs": [],
   "source": [
    "import numpy as np\n",
    "np.set_printoptions(suppress=True, precision=5, linewidth=150)"
   ]
  },
  {
   "cell_type": "code",
   "execution_count": null,
   "metadata": {},
   "outputs": [],
   "source": [
    "V = np.array([1.000000, 0.984290, -0.920862, 0.194989, 0.000000, 1.000000, 0.000000, -0.152859, 0.000000, 0.000000, 1.000000, 0.311052, 0.000000, 0.000000, 0.000000, 1.000000, ]).reshape(4, 4).T\n",
    "m,n = V.shape\n",
    "\n",
    "Ht = np.eye(m, dtype=np.float)\n",
    "taus = []\n",
    "\n",
    "for i in range(n):\n",
    "    v = V[i:,i].reshape(-1,1)\n",
    "    tau = 2 / np.linalg.norm(v)**2\n",
    "    \n",
    "    taus.append(tau)\n",
    "    \n",
    "    # compute Hn* . H2* . H1*\n",
    "    # Htmp = np.zeros(Ht.shape, dtype=V.dtype)\n",
    "    # Htmp[i:, i:] = tau * v @ v.conj().T\n",
    "    # Ht = (np.eye(Ht.shape[0]) - Htmp) @ Ht\n",
    "    \n",
    "    # >>> ALTERNATIVE: compute H1 . H2 . Hn\n",
    "    # Htmp = np.zeros(Ht.shape, dtype=V.dtype)\n",
    "    # Htmp[i:, i:] = np.conj(tau) * v @ v.conj().T\n",
    "    # H = H @ (np.eye(H.shape[0]) - Htmp)\n",
    "    \n",
    "    # >>> ALTERNATIVE: Hn* . H2* . H1*\n",
    "    # but more efficient: update just interested submatrix\n",
    "    Htmp = np.eye(v.shape[0]) - tau * v @ v.conj().T\n",
    "    Ht[i:, :] = Htmp @ Ht[i:, :]\n",
    "\n",
    "display('taus', taus)\n",
    "display('V', V)\n",
    "display('Ht', Ht)\n",
    "\n",
    "assert(np.allclose(Ht @ Ht.conj().T, np.eye(Ht.shape[0])))"
   ]
  },
  {
   "cell_type": "code",
   "execution_count": null,
   "metadata": {},
   "outputs": [],
   "source": [
    "def compute_t_factor(V, taus):\n",
    "    n = V.shape[1]\n",
    "    T = np.zeros((n, n), dtype=V.dtype)\n",
    "    for i in range(n):\n",
    "        T[i, i] = taus[i]\n",
    "        T[:i, i] = - T[i, i] * T[:i,:i] @ V[i:,:i].conj().T @ V[i:,i]\n",
    "        display(T)\n",
    "    return T\n",
    "\n",
    "T = compute_t_factor(V, taus)"
   ]
  },
  {
   "cell_type": "code",
   "execution_count": null,
   "metadata": {},
   "outputs": [],
   "source": [
    "H = np.eye(m) - V @ T @ V.conj().T\n",
    "\n",
    "assert(np.allclose(H @ H.conj().T, np.eye(H.shape[0])))\n",
    "display(H)"
   ]
  },
  {
   "cell_type": "code",
   "execution_count": null,
   "metadata": {},
   "outputs": [],
   "source": [
    "display(Ht.conj().T)\n",
    "display(H)\n",
    "assert(np.allclose(Ht.conj().T, H))"
   ]
  },
  {
   "cell_type": "code",
   "execution_count": null,
   "metadata": {},
   "outputs": [],
   "source": []
  }
 ],
 "metadata": {
  "kernelspec": {
   "display_name": "Python 3",
   "language": "python",
   "name": "python3"
  },
  "language_info": {
   "codemirror_mode": {
    "name": "ipython",
    "version": 3
   },
   "file_extension": ".py",
   "mimetype": "text/x-python",
   "name": "python",
   "nbconvert_exporter": "python",
   "pygments_lexer": "ipython3",
   "version": "3.7.6"
  }
 },
 "nbformat": 4,
 "nbformat_minor": 4
}
