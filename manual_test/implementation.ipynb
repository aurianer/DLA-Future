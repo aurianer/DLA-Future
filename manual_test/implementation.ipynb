{
 "cells": [
  {
   "cell_type": "code",
   "execution_count": 1,
   "metadata": {},
   "outputs": [],
   "source": [
    "import numpy as np\n",
    "np.set_printoptions(linewidth=150, suppress=True, precision=3)"
   ]
  },
  {
   "cell_type": "code",
   "execution_count": 2,
   "metadata": {},
   "outputs": [],
   "source": [
    "def compute_v(V_in):\n",
    "    V = V_in.copy()\n",
    "    norm = np.linalg.norm(V)\n",
    "    x0 = V[0].copy()\n",
    "    y = - np.sign(x0) * norm\n",
    "    tau = (y - x0) / y\n",
    "    V[0] = y\n",
    "    V[1:] /= (x0 - y)\n",
    "    \n",
    "    return tau, V"
   ]
  },
  {
   "cell_type": "code",
   "execution_count": 12,
   "metadata": {},
   "outputs": [],
   "source": [
    "matA = np.zeros((6, 6), dtype=np.complex)\n",
    "matA[0,0] = complex(-0.679585,0)\n",
    "matA[1,0] = complex(0.753421,-0.529475)\n",
    "matA[0,1] = complex(0.753421,0.529475)\n",
    "matA[1,1] = complex(-0.0791742,0)\n",
    "matA[2,0] = complex(0.582536,0.227978)\n",
    "matA[3,0] = complex(0.296187,0.55139)\n",
    "matA[2,1] = complex(0.478532,0.365537)\n",
    "matA[3,1] = complex(-0.213113,-0.36713)\n",
    "matA[4,0] = complex(0.0198112,0.168763)\n",
    "matA[5,0] = complex(0.14048,-0.61663)\n",
    "matA[4,1] = complex(-0.191346,0.847631)\n",
    "matA[5,1] = complex(-0.726808,0.0910724)\n",
    "matA[0,2] = complex(0.582536,-0.227978)\n",
    "matA[1,2] = complex(0.478532,-0.365537)\n",
    "matA[0,3] = complex(0.296187,-0.55139)\n",
    "matA[1,3] = complex(-0.213113,0.36713)\n",
    "matA[2,2] = complex(-0.305542,0)\n",
    "matA[3,2] = complex(0.895346,0.19707)\n",
    "matA[2,3] = complex(0.895346,-0.19707)\n",
    "matA[3,3] = complex(-0.00935277,0)\n",
    "matA[4,2] = complex(0.275293,-0.0185519)\n",
    "matA[5,2] = complex(-0.700053,-0.425955)\n",
    "matA[4,3] = complex(0.293019,0.0454628)\n",
    "matA[5,3] = complex(0.0373272,0.239061)\n",
    "matA[0,4] = complex(0.0198112,-0.168763)\n",
    "matA[1,4] = complex(-0.191346,-0.847631)\n",
    "matA[0,5] = complex(0.14048,0.61663)\n",
    "matA[1,5] = complex(-0.726808,-0.0910724)\n",
    "matA[2,4] = complex(0.275293,0.0185519)\n",
    "matA[3,4] = complex(0.293019,-0.0454628)\n",
    "matA[2,5] = complex(-0.700053,0.425955)\n",
    "matA[3,5] = complex(0.0373272,-0.239061)\n",
    "matA[4,4] = complex(0.175663,0)\n",
    "matA[5,4] = complex(0.355474,0.0861055)\n",
    "matA[4,5] = complex(0.355474,-0.0861055)\n",
    "matA[5,5] = complex(-0.147128,0)\n",
    "\n",
    "Z = np.zeros((6, 6), dtype=np.complex)\n",
    "Z[0,0] = complex(-0.679585,0)\n",
    "Z[1,0] = complex(0.753421,-0.529475)\n",
    "Z[0,1] = complex(0.753421,0.529475)\n",
    "Z[1,1] = complex(-0.0791742,0)\n",
    "Z[2,0] = complex(-1.10087,-0)\n",
    "Z[3,0] = complex(0.216335,0.298246)\n",
    "Z[2,1] = complex(-0.0704359,0.248602)\n",
    "Z[3,1] = complex(1.32954,0)\n",
    "Z[4,0] = complex(0.0248886,0.0968801)\n",
    "Z[5,0] = complex(0.0332341,-0.370799)\n",
    "Z[4,1] = complex(-0.0423654,-0.472152)\n",
    "Z[5,1] = complex(0.379258,-0.308427)\n",
    "Z[0,2] = complex(0.582536,-0.227978)\n",
    "Z[1,2] = complex(0.478532,-0.365537)\n",
    "Z[0,3] = complex(0.296187,-0.55139)\n",
    "Z[1,3] = complex(-0.213113,0.36713)\n",
    "Z[2,2] = complex(0.605108,0)\n",
    "Z[3,2] = complex(-0.388362,-0.109381)\n",
    "Z[2,3] = complex(0.895346,-0.19707)\n",
    "Z[3,3] = complex(-0.27069,0)\n",
    "Z[4,2] = complex(0.817691,0)\n",
    "Z[5,2] = complex(-0.552992,0.169521)\n",
    "Z[4,3] = complex(0.277551,-0.446662)\n",
    "Z[5,3] = complex(-0.520172,0.215131)\n",
    "Z[0,4] = complex(0.0198112,-0.168763)\n",
    "Z[1,4] = complex(-0.191346,-0.847631)\n",
    "Z[0,5] = complex(0.14048,0.61663)\n",
    "Z[1,5] = complex(-0.726808,-0.0910724)\n",
    "Z[2,4] = complex(0.275293,0.0185519)\n",
    "Z[3,4] = complex(0.293019,-0.0454628)\n",
    "Z[2,5] = complex(-0.700053,0.425955)\n",
    "Z[3,5] = complex(0.0373272,-0.239061)\n",
    "Z[4,4] = complex(-0.754793,0)\n",
    "Z[5,4] = complex(0.0424268,0.0343959)\n",
    "Z[4,5] = complex(0.355474,-0.0861055)\n",
    "Z[5,5] = complex(0.134015,0)\n",
    "\n",
    "REF = matA.copy()\n",
    "\n",
    "nb = 2"
   ]
  },
  {
   "cell_type": "code",
   "execution_count": 13,
   "metadata": {
    "scrolled": false
   },
   "outputs": [
    {
     "data": {
      "text/plain": [
       "array([[-0.68 +0.j   ,  0.753+0.529j,  0.583-0.228j,  0.296-0.551j,  0.02 -0.169j,  0.14 +0.617j],\n",
       "       [ 0.753-0.529j, -0.079+0.j   ,  0.479-0.366j, -0.213+0.367j, -0.191-0.848j, -0.727-0.091j],\n",
       "       [ 0.583+0.228j,  0.479+0.366j, -0.306+0.j   ,  0.895-0.197j,  0.275+0.019j, -0.7  +0.426j],\n",
       "       [ 0.296+0.551j, -0.213-0.367j,  0.895+0.197j, -0.009+0.j   ,  0.293-0.045j,  0.037-0.239j],\n",
       "       [ 0.02 +0.169j, -0.191+0.848j,  0.275-0.019j,  0.293+0.045j,  0.176+0.j   ,  0.355-0.086j],\n",
       "       [ 0.14 -0.617j, -0.727+0.091j, -0.7  -0.426j,  0.037+0.239j,  0.355+0.086j, -0.147+0.j   ]])"
      ]
     },
     "metadata": {},
     "output_type": "display_data"
    },
    {
     "data": {
      "text/plain": [
       "'Ai'"
      ]
     },
     "metadata": {},
     "output_type": "display_data"
    },
    {
     "data": {
      "text/plain": [
       "array([[ 0.583+0.228j,  0.479+0.366j],\n",
       "       [ 0.296+0.551j, -0.213-0.367j],\n",
       "       [ 0.02 +0.169j, -0.191+0.848j],\n",
       "       [ 0.14 -0.617j, -0.727+0.091j]])"
      ]
     },
     "metadata": {},
     "output_type": "display_data"
    },
    {
     "data": {
      "text/plain": [
       "'At'"
      ]
     },
     "metadata": {},
     "output_type": "display_data"
    },
    {
     "data": {
      "text/plain": [
       "array([[-0.306+0.j   ,  0.895-0.197j,  0.275+0.019j, -0.7  +0.426j],\n",
       "       [ 0.895+0.197j, -0.009+0.j   ,  0.293-0.045j,  0.037-0.239j],\n",
       "       [ 0.275-0.019j,  0.293+0.045j,  0.176+0.j   ,  0.355-0.086j],\n",
       "       [-0.7  -0.426j,  0.037+0.239j,  0.355+0.086j, -0.147+0.j   ]])"
      ]
     },
     "metadata": {},
     "output_type": "display_data"
    },
    {
     "data": {
      "text/plain": [
       "'V'"
      ]
     },
     "metadata": {},
     "output_type": "display_data"
    },
    {
     "data": {
      "text/plain": [
       "array([[ 1.   +0.j   ,  0.   +0.j   ],\n",
       "       [ 0.216+0.298j,  1.   +0.j   ],\n",
       "       [ 0.025+0.097j, -0.042-0.472j],\n",
       "       [ 0.033-0.371j,  0.379-0.308j]])"
      ]
     },
     "metadata": {},
     "output_type": "display_data"
    },
    {
     "data": {
      "text/plain": [
       "'T'"
      ]
     },
     "metadata": {},
     "output_type": "display_data"
    },
    {
     "data": {
      "text/plain": [
       "array([[ 1.529+0.207j, -0.686+0.048j],\n",
       "       [ 0.   +0.j   ,  1.223+0.418j]])"
      ]
     },
     "metadata": {},
     "output_type": "display_data"
    },
    {
     "data": {
      "text/plain": [
       "'W'"
      ]
     },
     "metadata": {},
     "output_type": "display_data"
    },
    {
     "data": {
      "text/plain": [
       "array([[ 1.529+0.207j, -0.686+0.048j],\n",
       "       [ 0.269+0.501j,  1.061+0.224j],\n",
       "       [ 0.018+0.153j,  0.124-0.661j],\n",
       "       [ 0.128-0.56j ,  0.588+0.037j]])"
      ]
     },
     "metadata": {},
     "output_type": "display_data"
    },
    {
     "data": {
      "text/plain": [
       "'At'"
      ]
     },
     "metadata": {},
     "output_type": "display_data"
    },
    {
     "data": {
      "text/plain": [
       "array([[-0.306+0.j   ,  0.895-0.197j,  0.275+0.019j, -0.7  +0.426j],\n",
       "       [ 0.895+0.197j, -0.009+0.j   ,  0.293-0.045j,  0.037-0.239j],\n",
       "       [ 0.275-0.019j,  0.293+0.045j,  0.176+0.j   ,  0.355-0.086j],\n",
       "       [-0.7  -0.426j,  0.037+0.239j,  0.355+0.086j, -0.147+0.j   ]])"
      ]
     },
     "metadata": {},
     "output_type": "display_data"
    },
    {
     "data": {
      "text/plain": [
       "\"X'\""
      ]
     },
     "metadata": {},
     "output_type": "display_data"
    },
    {
     "data": {
      "text/plain": [
       "array([[ 0.024+0.821j,  0.822+0.022j],\n",
       "       [ 1.209+0.475j, -0.596-0.432j],\n",
       "       [ 0.481+0.004j,  0.347-0.013j],\n",
       "       [-1.118-0.575j,  0.501+0.291j]])"
      ]
     },
     "metadata": {},
     "output_type": "display_data"
    },
    {
     "data": {
      "text/plain": [
       "'W2'"
      ]
     },
     "metadata": {},
     "output_type": "display_data"
    },
    {
     "data": {
      "text/plain": [
       "array([[ 0.958+0.j  ,  0.79 +0.31j],\n",
       "       [ 0.79 -0.31j, -0.935-0.j  ]])"
      ]
     },
     "metadata": {},
     "output_type": "display_data"
    },
    {
     "data": {
      "text/plain": [
       "'X'"
      ]
     },
     "metadata": {},
     "output_type": "display_data"
    },
    {
     "data": {
      "text/plain": [
       "array([[-0.455+0.821j,  0.427-0.133j],\n",
       "       [ 0.71 +0.487j, -0.168-0.584j],\n",
       "       [ 0.559+0.138j,  0.332-0.276j],\n",
       "       [-1.236-0.217j,  0.608+0.288j]])"
      ]
     },
     "metadata": {},
     "output_type": "display_data"
    },
    {
     "data": {
      "text/plain": [
       "'At'"
      ]
     },
     "metadata": {},
     "output_type": "display_data"
    },
    {
     "data": {
      "text/plain": [
       "array([[ 0.605+0.j   , -0.388+0.109j, -0.397-0.115j,  0.652+0.27j ],\n",
       "       [-0.388-0.109j, -0.271+0.j   , -0.549-0.347j, -0.198+0.364j],\n",
       "       [-0.397+0.115j, -0.549+0.347j, -0.112+0.j   ,  0.39 +0.093j],\n",
       "       [ 0.652-0.27j , -0.198-0.364j,  0.39 -0.093j, -0.509+0.j   ]])"
      ]
     },
     "metadata": {},
     "output_type": "display_data"
    },
    {
     "data": {
      "text/plain": [
       "array([[-0.68 +0.j   ,  0.753+0.529j,  0.583-0.228j,  0.296-0.551j,  0.02 -0.169j,  0.14 +0.617j],\n",
       "       [ 0.753-0.529j, -0.079+0.j   ,  0.479-0.366j, -0.213+0.367j, -0.191-0.848j, -0.727-0.091j],\n",
       "       [-1.101-0.j   , -0.07 +0.249j,  0.605+0.j   , -0.388+0.109j, -0.397-0.115j,  0.652+0.27j ],\n",
       "       [ 0.   +0.j   ,  1.33 +0.j   , -0.388-0.109j, -0.271+0.j   , -0.549-0.347j, -0.198+0.364j],\n",
       "       [ 0.   +0.j   ,  0.   +0.j   , -0.397+0.115j, -0.549+0.347j, -0.112+0.j   ,  0.39 +0.093j],\n",
       "       [ 0.   +0.j   ,  0.   +0.j   ,  0.652-0.27j , -0.198-0.364j,  0.39 -0.093j, -0.509+0.j   ]])"
      ]
     },
     "metadata": {},
     "output_type": "display_data"
    },
    {
     "data": {
      "text/plain": [
       "'Ai'"
      ]
     },
     "metadata": {},
     "output_type": "display_data"
    },
    {
     "data": {
      "text/plain": [
       "array([[-0.397+0.115j, -0.549+0.347j],\n",
       "       [ 0.652-0.27j , -0.198-0.364j]])"
      ]
     },
     "metadata": {},
     "output_type": "display_data"
    },
    {
     "data": {
      "text/plain": [
       "'At'"
      ]
     },
     "metadata": {},
     "output_type": "display_data"
    },
    {
     "data": {
      "text/plain": [
       "array([[-0.112+0.j   ,  0.39 +0.093j],\n",
       "       [ 0.39 -0.093j, -0.509+0.j   ]])"
      ]
     },
     "metadata": {},
     "output_type": "display_data"
    },
    {
     "data": {
      "text/plain": [
       "'V'"
      ]
     },
     "metadata": {},
     "output_type": "display_data"
    },
    {
     "data": {
      "text/plain": [
       "array([[ 1.   +0.j  ,  0.   +0.j  ],\n",
       "       [-0.553+0.17j,  1.   +0.j  ]])"
      ]
     },
     "metadata": {},
     "output_type": "display_data"
    },
    {
     "data": {
      "text/plain": [
       "'T'"
      ]
     },
     "metadata": {},
     "output_type": "display_data"
    },
    {
     "data": {
      "text/plain": [
       "array([[1.485-0.141j, 0.   +0.j   ],\n",
       "       [0.   +0.j   , 0.   +0.j   ]])"
      ]
     },
     "metadata": {},
     "output_type": "display_data"
    },
    {
     "data": {
      "text/plain": [
       "'W'"
      ]
     },
     "metadata": {},
     "output_type": "display_data"
    },
    {
     "data": {
      "text/plain": [
       "array([[ 1.485-0.141j,  0.   +0.j   ],\n",
       "       [-0.797+0.33j ,  0.   +0.j   ]])"
      ]
     },
     "metadata": {},
     "output_type": "display_data"
    },
    {
     "data": {
      "text/plain": [
       "'At'"
      ]
     },
     "metadata": {},
     "output_type": "display_data"
    },
    {
     "data": {
      "text/plain": [
       "array([[-0.112+0.j   ,  0.39 +0.093j],\n",
       "       [ 0.39 -0.093j, -0.509+0.j   ]])"
      ]
     },
     "metadata": {},
     "output_type": "display_data"
    },
    {
     "data": {
      "text/plain": [
       "\"X'\""
      ]
     },
     "metadata": {},
     "output_type": "display_data"
    },
    {
     "data": {
      "text/plain": [
       "array([[-0.508+0.07j ,  0.   +0.j   ],\n",
       "       [ 0.972-0.362j,  0.   +0.j   ]])"
      ]
     },
     "metadata": {},
     "output_type": "display_data"
    },
    {
     "data": {
      "text/plain": [
       "'W2'"
      ]
     },
     "metadata": {},
     "output_type": "display_data"
    },
    {
     "data": {
      "text/plain": [
       "array([[-1.659+0.j,  0.   +0.j],\n",
       "       [ 0.   +0.j,  0.   +0.j]])"
      ]
     },
     "metadata": {},
     "output_type": "display_data"
    },
    {
     "data": {
      "text/plain": [
       "'X'"
      ]
     },
     "metadata": {},
     "output_type": "display_data"
    },
    {
     "data": {
      "text/plain": [
       "array([[0.322+0.07j , 0.   +0.j   ],\n",
       "       [0.514-0.221j, 0.   +0.j   ]])"
      ]
     },
     "metadata": {},
     "output_type": "display_data"
    },
    {
     "data": {
      "text/plain": [
       "'At'"
      ]
     },
     "metadata": {},
     "output_type": "display_data"
    },
    {
     "data": {
      "text/plain": [
       "array([[-0.755+0.j   ,  0.042-0.034j],\n",
       "       [ 0.042+0.034j,  0.134+0.j   ]])"
      ]
     },
     "metadata": {},
     "output_type": "display_data"
    },
    {
     "data": {
      "text/plain": [
       "array([[-0.68 +0.j   ,  0.753+0.529j,  0.583-0.228j,  0.296-0.551j,  0.02 -0.169j,  0.14 +0.617j],\n",
       "       [ 0.753-0.529j, -0.079+0.j   ,  0.479-0.366j, -0.213+0.367j, -0.191-0.848j, -0.727-0.091j],\n",
       "       [-1.101-0.j   , -0.07 +0.249j,  0.605+0.j   , -0.388+0.109j, -0.397-0.115j,  0.652+0.27j ],\n",
       "       [ 0.   +0.j   ,  1.33 +0.j   , -0.388-0.109j, -0.271+0.j   , -0.549-0.347j, -0.198+0.364j],\n",
       "       [ 0.   +0.j   ,  0.   +0.j   ,  0.818+0.j   ,  0.278-0.447j, -0.755+0.j   ,  0.042-0.034j],\n",
       "       [ 0.   +0.j   ,  0.   +0.j   ,  0.   +0.j   , -0.52 +0.215j,  0.042+0.034j,  0.134+0.j   ]])"
      ]
     },
     "metadata": {},
     "output_type": "display_data"
    }
   ],
   "source": [
    "matA = REF.copy()\n",
    "\n",
    "Vs = []\n",
    "Ts = []\n",
    "\n",
    "for j_panel in range(nb, matA.shape[0], nb):\n",
    "    Ai = matA[j_panel:, j_panel-nb:j_panel]\n",
    "    At = matA[j_panel:, j_panel:]\n",
    "    \n",
    "    display(matA)\n",
    "    display('Ai', Ai)\n",
    "    display('At', At)\n",
    "    \n",
    "    # REFLECTOR PANEL\n",
    "    T = np.zeros((nb, nb), dtype=matA.dtype)\n",
    "    V = np.zeros((Ai.shape[0], nb), dtype=matA.dtype)\n",
    "    V[:nb,:nb] = np.eye(nb)\n",
    "    \n",
    "    for j in range(nb):\n",
    "        Vj = Ai[j:,j]\n",
    "        \n",
    "        if len(Vj) == 1:\n",
    "            break\n",
    "\n",
    "        tau, Vj = compute_v(Vj)\n",
    "        \n",
    "        # Store tau in the T-factor\n",
    "        T[j, j] = tau\n",
    "        \n",
    "        # Update \"temp\" band matrix\n",
    "        Ai[j,j] = Vj[0]\n",
    "        Ai[j+1:,j] = 0\n",
    "        \n",
    "        # Setup H matrix with householder reflectors\n",
    "        V[j, j] = 1\n",
    "        V[j + 1:, j] = Vj[1:].copy()\n",
    "   \n",
    "        # copy the current reflector\n",
    "        Vj = V[j:,j].copy().reshape(-1, 1)\n",
    "        \n",
    "        # COMPUTE TRAILING PANEL (IF THERE IS ONE)\n",
    "        if nb - (j + 1) > 0:\n",
    "            Pt = Ai[j:, j + 1:]\n",
    "            \n",
    "            W = Pt.conj().T @ Vj\n",
    "            Pt = Pt - np.conj(tau) * Vj @ W.conj().T # TODO tau conj\n",
    "            \n",
    "            Ai[j:, j + 1:] = Pt\n",
    "        \n",
    "    # Update band matrix\n",
    "    matA[j_panel:, j_panel-nb:j_panel] = Ai\n",
    "        \n",
    "    # COMPUTE T-FACTOR\n",
    "    for j in range(1, nb):\n",
    "        T[0:j, j] = - T[j, j] * T[0:j, 0:j] @ V[j:, 0:j].conj().T @ V[j:, j]\n",
    "\n",
    "    Vs.append(V)\n",
    "    Ts.append(T)\n",
    "        \n",
    "    display('V', V)\n",
    "    display('T', T)\n",
    "    \n",
    "    # UPDATE TRAILING MATRIX\n",
    "    W = V @ T\n",
    "    display('W', W, 'At', At)\n",
    "    X = At @ W\n",
    "    display('X\\'', X)\n",
    "    W2 = W.conj().T @ X\n",
    "    display('W2', W2)\n",
    "    X = X - .5 * V @ W2\n",
    "    display('X', X)\n",
    "\n",
    "    At = At - X @ V.conj().T - V @ X.conj().T\n",
    "    matA[j_panel:, j_panel:] = At\n",
    "    \n",
    "    display('At', At)\n",
    "\n",
    "display(matA)"
   ]
  },
  {
   "cell_type": "code",
   "execution_count": 14,
   "metadata": {},
   "outputs": [
    {
     "data": {
      "text/plain": [
       "'Z'"
      ]
     },
     "metadata": {},
     "output_type": "display_data"
    },
    {
     "data": {
      "text/plain": [
       "array([[-0.68 +0.j   ,  0.753+0.529j,  0.583-0.228j,  0.296-0.551j,  0.02 -0.169j,  0.14 +0.617j],\n",
       "       [ 0.753-0.529j, -0.079+0.j   ,  0.479-0.366j, -0.213+0.367j, -0.191-0.848j, -0.727-0.091j],\n",
       "       [-1.101+0.j   , -0.07 +0.249j,  0.605+0.j   ,  0.895-0.197j,  0.275+0.019j, -0.7  +0.426j],\n",
       "       [ 0.216+0.298j,  1.33 +0.j   , -0.388-0.109j, -0.271+0.j   ,  0.293-0.045j,  0.037-0.239j],\n",
       "       [ 0.025+0.097j, -0.042-0.472j,  0.818+0.j   ,  0.278-0.447j, -0.755+0.j   ,  0.355-0.086j],\n",
       "       [ 0.033-0.371j,  0.379-0.308j, -0.553+0.17j , -0.52 +0.215j,  0.042+0.034j,  0.134+0.j   ]])"
      ]
     },
     "metadata": {},
     "output_type": "display_data"
    },
    {
     "data": {
      "text/plain": [
       "'matA'"
      ]
     },
     "metadata": {},
     "output_type": "display_data"
    },
    {
     "data": {
      "text/plain": [
       "array([[-0.68 +0.j   ,  0.753+0.529j,  0.583-0.228j,  0.296-0.551j,  0.02 -0.169j,  0.14 +0.617j],\n",
       "       [ 0.753-0.529j, -0.079+0.j   ,  0.479-0.366j, -0.213+0.367j, -0.191-0.848j, -0.727-0.091j],\n",
       "       [-1.101-0.j   , -0.07 +0.249j,  0.605+0.j   , -0.388+0.109j, -0.397-0.115j,  0.652+0.27j ],\n",
       "       [ 0.   +0.j   ,  1.33 +0.j   , -0.388-0.109j, -0.271+0.j   , -0.549-0.347j, -0.198+0.364j],\n",
       "       [ 0.   +0.j   ,  0.   +0.j   ,  0.818+0.j   ,  0.278-0.447j, -0.755+0.j   ,  0.042-0.034j],\n",
       "       [ 0.   +0.j   ,  0.   +0.j   ,  0.   +0.j   , -0.52 +0.215j,  0.042+0.034j,  0.134+0.j   ]])"
      ]
     },
     "metadata": {},
     "output_type": "display_data"
    },
    {
     "data": {
      "text/plain": [
       "'diff'"
      ]
     },
     "metadata": {},
     "output_type": "display_data"
    },
    {
     "data": {
      "text/plain": [
       "array([[ 0.   +0.j   ,  0.   +0.j   ,  0.   +0.j   ,  0.   +0.j   ,  0.   +0.j   ,  0.   +0.j   ],\n",
       "       [ 0.   +0.j   ,  0.   +0.j   ,  0.   +0.j   ,  0.   +0.j   ,  0.   +0.j   ,  0.   +0.j   ],\n",
       "       [-0.   -0.j   , -0.   +0.j   ,  0.   +0.j   ,  0.   +0.j   ,  0.   +0.j   ,  0.   +0.j   ],\n",
       "       [-0.216-0.298j,  0.   +0.j   ,  0.   +0.j   , -0.   +0.j   ,  0.   +0.j   ,  0.   +0.j   ],\n",
       "       [-0.025-0.097j,  0.042+0.472j, -0.   +0.j   ,  0.   +0.j   , -0.   +0.j   ,  0.   +0.j   ],\n",
       "       [-0.033+0.371j, -0.379+0.308j,  0.553-0.17j ,  0.   +0.j   ,  0.   +0.j   , -0.   +0.j   ]])"
      ]
     },
     "metadata": {},
     "output_type": "display_data"
    }
   ],
   "source": [
    "display('Z', Z)\n",
    "display('matA', matA)\n",
    "display('diff', np.tril(matA - Z))"
   ]
  },
  {
   "cell_type": "code",
   "execution_count": 15,
   "metadata": {},
   "outputs": [
    {
     "data": {
      "text/plain": [
       "array([[-0.68 +0.j   ,  0.753+0.529j, -1.101+0.j   ,  0.   -0.j   ,  0.   -0.j   ,  0.   -0.j   ],\n",
       "       [ 0.753-0.529j, -0.079+0.j   , -0.07 -0.249j,  1.33 -0.j   ,  0.   -0.j   ,  0.   -0.j   ],\n",
       "       [-1.101-0.j   , -0.07 +0.249j,  0.605+0.j   , -0.388+0.109j,  0.818-0.j   ,  0.   -0.j   ],\n",
       "       [ 0.   +0.j   ,  1.33 +0.j   , -0.388-0.109j, -0.271+0.j   ,  0.278+0.447j, -0.52 -0.215j],\n",
       "       [ 0.   +0.j   ,  0.   +0.j   ,  0.818+0.j   ,  0.278-0.447j, -0.755+0.j   ,  0.042-0.034j],\n",
       "       [ 0.   +0.j   ,  0.   +0.j   ,  0.   +0.j   , -0.52 +0.215j,  0.042+0.034j,  0.134+0.j   ]])"
      ]
     },
     "metadata": {},
     "output_type": "display_data"
    }
   ],
   "source": [
    "for j in range(matA.shape[1]):\n",
    "    for i in range(j+1, matA.shape[0]):\n",
    "        matA[j, i] = np.conj(matA[i, j])\n",
    "display(matA)"
   ]
  },
  {
   "cell_type": "code",
   "execution_count": 16,
   "metadata": {},
   "outputs": [
    {
     "data": {
      "text/plain": [
       "array([[ 1.   +0.j   ,  0.   +0.j   ,  0.   +0.j   ,  0.   +0.j   ],\n",
       "       [ 0.216+0.298j,  1.   +0.j   ,  0.   +0.j   ,  0.   +0.j   ],\n",
       "       [ 0.025+0.097j, -0.042-0.472j,  1.   +0.j   ,  0.   +0.j   ],\n",
       "       [ 0.033-0.371j,  0.379-0.308j, -0.553+0.17j ,  1.   +0.j   ]])"
      ]
     },
     "metadata": {},
     "output_type": "display_data"
    }
   ],
   "source": [
    "V = np.zeros((Vs[0].shape[0], len(Vs) * nb), dtype=Vs[0].dtype)\n",
    "for i, Hi in enumerate(Vs):\n",
    "    V[V.shape[0] - Hi.shape[0]:, i * nb: (i + 1) * nb] = Hi\n",
    "display(V)"
   ]
  },
  {
   "cell_type": "code",
   "execution_count": 17,
   "metadata": {},
   "outputs": [
    {
     "data": {
      "text/plain": [
       "[(1.5291584213123797+0.20708845217111685j),\n",
       " (1.2233844121532873+0.418305390227304j),\n",
       " (1.48526614298368-0.14097409510101125j),\n",
       " 0j]"
      ]
     },
     "metadata": {},
     "output_type": "display_data"
    }
   ],
   "source": [
    "taus = [tau for T in Ts for tau in T.diagonal()]\n",
    "display(taus)"
   ]
  },
  {
   "cell_type": "code",
   "execution_count": 18,
   "metadata": {
    "scrolled": false
   },
   "outputs": [
    {
     "data": {
      "text/plain": [
       "'A = Q B Q*'"
      ]
     },
     "metadata": {},
     "output_type": "display_data"
    },
    {
     "data": {
      "text/plain": [
       "array([[-0.68 +0.j   ,  0.753+0.529j,  0.583-0.228j,  0.296-0.551j,  0.02 -0.169j,  0.14 +0.617j],\n",
       "       [ 0.753-0.529j, -0.079+0.j   ,  0.479-0.366j, -0.213+0.367j, -0.191-0.848j, -0.727-0.091j],\n",
       "       [ 0.583+0.228j,  0.479+0.366j, -0.306+0.j   ,  0.895-0.197j,  0.275+0.019j, -0.7  +0.426j],\n",
       "       [ 0.296+0.551j, -0.213-0.367j,  0.895+0.197j, -0.009+0.j   ,  0.293-0.045j,  0.037-0.239j],\n",
       "       [ 0.02 +0.169j, -0.191+0.848j,  0.275-0.019j,  0.293+0.045j,  0.176-0.j   ,  0.355-0.086j],\n",
       "       [ 0.14 -0.617j, -0.727+0.091j, -0.7  -0.426j,  0.037+0.239j,  0.355+0.086j, -0.147-0.j   ]])"
      ]
     },
     "metadata": {},
     "output_type": "display_data"
    }
   ],
   "source": [
    "B = matA.copy()\n",
    "\n",
    "for j in range(V.shape[1]-1, -1, -1):\n",
    "    vj = V[j:, j]\n",
    "    n = vj.shape[0]\n",
    "    \n",
    "    Qj = np.eye(n) - taus[j] * np.outer(vj, vj.conj().T)\n",
    "    \n",
    "    H = np.eye(B.shape[0], dtype=B.dtype)\n",
    "    H[-n:,-n:] = Qj\n",
    "    \n",
    "    B = H @ B @ H.conj().T\n",
    "\n",
    "display('A = Q B Q*', B)"
   ]
  },
  {
   "cell_type": "code",
   "execution_count": 19,
   "metadata": {},
   "outputs": [
    {
     "data": {
      "text/plain": [
       "'REF'"
      ]
     },
     "metadata": {},
     "output_type": "display_data"
    },
    {
     "data": {
      "text/plain": [
       "array([[-0.68 +0.j   ,  0.753+0.529j,  0.583-0.228j,  0.296-0.551j,  0.02 -0.169j,  0.14 +0.617j],\n",
       "       [ 0.753-0.529j, -0.079+0.j   ,  0.479-0.366j, -0.213+0.367j, -0.191-0.848j, -0.727-0.091j],\n",
       "       [ 0.583+0.228j,  0.479+0.366j, -0.306+0.j   ,  0.895-0.197j,  0.275+0.019j, -0.7  +0.426j],\n",
       "       [ 0.296+0.551j, -0.213-0.367j,  0.895+0.197j, -0.009+0.j   ,  0.293-0.045j,  0.037-0.239j],\n",
       "       [ 0.02 +0.169j, -0.191+0.848j,  0.275-0.019j,  0.293+0.045j,  0.176+0.j   ,  0.355-0.086j],\n",
       "       [ 0.14 -0.617j, -0.727+0.091j, -0.7  -0.426j,  0.037+0.239j,  0.355+0.086j, -0.147+0.j   ]])"
      ]
     },
     "metadata": {},
     "output_type": "display_data"
    },
    {
     "data": {
      "text/plain": [
       "'A = Q B Q*'"
      ]
     },
     "metadata": {},
     "output_type": "display_data"
    },
    {
     "data": {
      "text/plain": [
       "array([[-0.68 +0.j   ,  0.753+0.529j,  0.583-0.228j,  0.296-0.551j,  0.02 -0.169j,  0.14 +0.617j],\n",
       "       [ 0.753-0.529j, -0.079+0.j   ,  0.479-0.366j, -0.213+0.367j, -0.191-0.848j, -0.727-0.091j],\n",
       "       [ 0.583+0.228j,  0.479+0.366j, -0.306+0.j   ,  0.895-0.197j,  0.275+0.019j, -0.7  +0.426j],\n",
       "       [ 0.296+0.551j, -0.213-0.367j,  0.895+0.197j, -0.009+0.j   ,  0.293-0.045j,  0.037-0.239j],\n",
       "       [ 0.02 +0.169j, -0.191+0.848j,  0.275-0.019j,  0.293+0.045j,  0.176-0.j   ,  0.355-0.086j],\n",
       "       [ 0.14 -0.617j, -0.727+0.091j, -0.7  -0.426j,  0.037+0.239j,  0.355+0.086j, -0.147-0.j   ]])"
      ]
     },
     "metadata": {},
     "output_type": "display_data"
    },
    {
     "data": {
      "text/plain": [
       "'diff'"
      ]
     },
     "metadata": {},
     "output_type": "display_data"
    },
    {
     "data": {
      "text/plain": [
       "array([[ 0.+0.j,  0.+0.j,  0.+0.j,  0.-0.j,  0.-0.j,  0.+0.j],\n",
       "       [ 0.+0.j,  0.+0.j,  0.+0.j, -0.-0.j,  0.+0.j,  0.-0.j],\n",
       "       [ 0.+0.j,  0.+0.j,  0.+0.j,  0.-0.j,  0.-0.j, -0.+0.j],\n",
       "       [ 0.+0.j, -0.+0.j,  0.+0.j,  0.-0.j,  0.+0.j, -0.-0.j],\n",
       "       [ 0.+0.j,  0.+0.j,  0.+0.j,  0.-0.j, -0.+0.j,  0.+0.j],\n",
       "       [ 0.-0.j,  0.+0.j, -0.+0.j, -0.+0.j,  0.-0.j, -0.+0.j]])"
      ]
     },
     "metadata": {},
     "output_type": "display_data"
    }
   ],
   "source": [
    "display('REF', REF)\n",
    "display('A = Q B Q*', B)\n",
    "display('diff', REF - B)"
   ]
  },
  {
   "cell_type": "code",
   "execution_count": null,
   "metadata": {},
   "outputs": [],
   "source": []
  }
 ],
 "metadata": {
  "kernelspec": {
   "display_name": "Python 3",
   "language": "python",
   "name": "python3"
  },
  "language_info": {
   "codemirror_mode": {
    "name": "ipython",
    "version": 3
   },
   "file_extension": ".py",
   "mimetype": "text/x-python",
   "name": "python",
   "nbconvert_exporter": "python",
   "pygments_lexer": "ipython3",
   "version": "3.7.6"
  }
 },
 "nbformat": 4,
 "nbformat_minor": 4
}
